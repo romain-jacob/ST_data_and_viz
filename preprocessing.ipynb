{
 "cells": [
  {
   "cell_type": "markdown",
   "metadata": {},
   "source": [
    "This notebook performs the preprocessing of the raw data."
   ]
  },
  {
   "cell_type": "code",
   "execution_count": 1,
   "metadata": {},
   "outputs": [],
   "source": [
    "%load_ext autoreload\n",
    "%autoreload 2"
   ]
  },
  {
   "cell_type": "code",
   "execution_count": 3,
   "metadata": {},
   "outputs": [],
   "source": [
    "from pathlib import Path\n",
    "\n",
    "import pandas as pd\n",
    "import numpy as np\n",
    "\n",
    "from src.preprocess import parse_run_rssi, parse_run_prr"
   ]
  },
  {
   "cell_type": "code",
   "execution_count": 29,
   "metadata": {
    "scrolled": false
   },
   "outputs": [
    {
     "name": "stdout",
     "output_type": "stream",
     "text": [
      "data_raw/transmitter_pair_a/different_data/20190906_111609\n",
      "Processed data retrieved (not computed).\n",
      "Processed data retrieved (not computed).\n",
      "data_raw/transmitter_pair_a/different_data/20190906_165148\n",
      "Processed data retrieved (not computed).\n",
      "Processed data retrieved (not computed).\n",
      "data_raw/transmitter_pair_a/different_data/20190906_180049\n",
      "Processed data retrieved (not computed).\n",
      "Processed data retrieved (not computed).\n",
      "data_raw/transmitter_pair_a/different_data/20190906_152247\n",
      "Processed data retrieved (not computed).\n",
      "Processed data retrieved (not computed).\n",
      "data_raw/transmitter_pair_a/different_data/20190906_134921\n",
      "Processed data retrieved (not computed).\n",
      "Processed data retrieved (not computed).\n",
      "data_raw/transmitter_pair_a/same_data/20190905_124500\n",
      "Processed data retrieved (not computed).\n",
      "Processed data retrieved (not computed).\n",
      "data_raw/transmitter_pair_a/same_data/20190905_160107\n",
      "Processed data retrieved (not computed).\n",
      "Processed data retrieved (not computed).\n",
      "data_raw/transmitter_pair_a/same_data/20190905_112509\n",
      "Processed data retrieved (not computed).\n",
      "Processed data retrieved (not computed).\n",
      "data_raw/transmitter_pair_a/same_data/20190905_173453\n",
      "Processed data retrieved (not computed).\n",
      "Processed data retrieved (not computed).\n",
      "data_raw/transmitter_pair_a/same_data/20190905_142138\n",
      "Processed data retrieved (not computed).\n",
      "Processed data retrieved (not computed).\n",
      "data_raw/transmitter_pair_b/different_data/20191004_180316\n",
      "Processed data retrieved (not computed).\n",
      "Processed data retrieved (not computed).\n",
      "data_raw/transmitter_pair_b/different_data/20191002_124413\n",
      "Processed data retrieved (not computed).\n",
      "Processed data retrieved (not computed).\n",
      "data_raw/transmitter_pair_b/different_data/20191002_111849\n",
      "Processed data retrieved (not computed).\n",
      "Processed data retrieved (not computed).\n",
      "data_raw/transmitter_pair_b/different_data/20191002_142409\n",
      "Processed data retrieved (not computed).\n",
      "Processed data retrieved (not computed).\n",
      "data_raw/transmitter_pair_b/different_data/20191003_135612\n",
      "Processed data retrieved (not computed).\n",
      "Processed data retrieved (not computed).\n",
      "data_raw/transmitter_pair_b/different_data/20191002_172310\n",
      "Processed data retrieved (not computed).\n",
      "Processed data retrieved (not computed).\n",
      "data_raw/transmitter_pair_b/different_data/20191003_123625\n",
      "Processed data retrieved (not computed).\n",
      "Processed data retrieved (not computed).\n",
      "data_raw/transmitter_pair_b/same_data/20191004_123331\n",
      "Processed data retrieved (not computed).\n",
      "Processed data retrieved (not computed).\n",
      "data_raw/transmitter_pair_b/same_data/20191003_164935\n",
      "Processed data retrieved (not computed).\n",
      "Processed data retrieved (not computed).\n",
      "data_raw/transmitter_pair_b/same_data/20191003_152135\n",
      "Processed data retrieved (not computed).\n",
      "Processed data retrieved (not computed).\n",
      "data_raw/transmitter_pair_b/same_data/20191004_111407\n",
      "Processed data retrieved (not computed).\n",
      "Processed data retrieved (not computed).\n",
      "data_raw/transmitter_pair_b/same_data/20191004_151506\n",
      "Processed data retrieved (not computed).\n",
      "Processed data retrieved (not computed).\n",
      "data_raw/transmitter_pair_b/same_data/20191004_163558\n",
      "Processed data retrieved (not computed).\n",
      "Processed data retrieved (not computed).\n",
      "data_raw/transmitter_pair_b/same_data/20191004_135500\n",
      "Processed data retrieved (not computed).\n",
      "Processed data retrieved (not computed).\n"
     ]
    }
   ],
   "source": [
    "# Compute and save median RSSI measurement values\n",
    "p = Path('data_raw')\n",
    "for pair in [x for x in p.iterdir() if x.is_dir()]:\n",
    "    for data in [x for x in pair.iterdir() if x.is_dir()]:\n",
    "        for datetime in [x for x in data.iterdir() if x.is_dir()]:\n",
    "            print(datetime)\n",
    "            rssi = parse_run_rssi(pair.name,data.name,datetime.name)\n",
    "            prr  = parse_run_prr(pair.name,data.name,datetime.name)"
   ]
  }
 ],
 "metadata": {
  "kernelspec": {
   "display_name": "Python 3",
   "language": "python",
   "name": "python3"
  },
  "language_info": {
   "codemirror_mode": {
    "name": "ipython",
    "version": 3
   },
   "file_extension": ".py",
   "mimetype": "text/x-python",
   "name": "python",
   "nbconvert_exporter": "python",
   "pygments_lexer": "ipython3",
   "version": "3.8.2"
  }
 },
 "nbformat": 4,
 "nbformat_minor": 4
}
